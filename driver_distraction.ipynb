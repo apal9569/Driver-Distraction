{
  "nbformat": 4,
  "nbformat_minor": 0,
  "metadata": {
    "colab": {
      "name": "driver_distraction.ipynb",
      "provenance": [],
      "collapsed_sections": [],
      "toc_visible": true,
      "machine_shape": "hm",
      "include_colab_link": true
    },
    "kernelspec": {
      "name": "python3",
      "display_name": "Python 3"
    },
    "accelerator": "GPU"
  },
  "cells": [
    {
      "cell_type": "markdown",
      "metadata": {
        "id": "view-in-github",
        "colab_type": "text"
      },
      "source": [
        "<a href=\"https://colab.research.google.com/github/apal9569/Driver-Distraction/blob/master/driver_distraction.ipynb\" target=\"_parent\"><img src=\"https://colab.research.google.com/assets/colab-badge.svg\" alt=\"Open In Colab\"/></a>"
      ]
    },
    {
      "cell_type": "code",
      "metadata": {
        "id": "5NRcL3FXXfCF",
        "colab_type": "code",
        "outputId": "069e0639-0d75-4362-bbc6-af87e88eaf91",
        "colab": {
          "base_uri": "https://localhost:8080/",
          "height": 34
        }
      },
      "source": [
        "from google.colab import drive\n",
        "drive.mount('/content/drive')"
      ],
      "execution_count": 0,
      "outputs": [
        {
          "output_type": "stream",
          "text": [
            "Mounted at /content/drive\n"
          ],
          "name": "stdout"
        }
      ]
    },
    {
      "cell_type": "code",
      "metadata": {
        "id": "KNGQxq1TXfu-",
        "colab_type": "code",
        "outputId": "7479f2da-7ce9-42e7-d3e1-fee1a707723c",
        "colab": {
          "base_uri": "https://localhost:8080/",
          "height": 34
        }
      },
      "source": [
        "cd drive/My Drive"
      ],
      "execution_count": 0,
      "outputs": [
        {
          "output_type": "stream",
          "text": [
            "/content/drive/My Drive\n"
          ],
          "name": "stdout"
        }
      ]
    },
    {
      "cell_type": "code",
      "metadata": {
        "id": "8EwdXBFUYQEt",
        "colab_type": "code",
        "outputId": "422a6267-d007-41b4-aab8-b24896ea1f1f",
        "colab": {
          "base_uri": "https://localhost:8080/",
          "height": 34
        }
      },
      "source": [
        "cd final_project/state-farm-distracted-driver-detection/"
      ],
      "execution_count": 0,
      "outputs": [
        {
          "output_type": "stream",
          "text": [
            "/content/drive/My Drive/final_project/state-farm-distracted-driver-detection\n"
          ],
          "name": "stdout"
        }
      ]
    },
    {
      "cell_type": "code",
      "metadata": {
        "id": "Bn_f57uzgv24",
        "colab_type": "code",
        "colab": {}
      },
      "source": [
        "import pandas as pd\n",
        "import numpy as np\n",
        "import cv2\n",
        "import matplotlib.pyplot as plt"
      ],
      "execution_count": 0,
      "outputs": []
    },
    {
      "cell_type": "code",
      "metadata": {
        "id": "bUJAnODCIRsw",
        "colab_type": "code",
        "colab": {}
      },
      "source": [
        "import os\n",
        "import glob\n",
        "from google.colab.patches import cv2_imshow\n",
        "from tqdm import tqdm\n",
        "import h5py\n",
        "from skimage import color"
      ],
      "execution_count": 0,
      "outputs": []
    },
    {
      "cell_type": "markdown",
      "metadata": {
        "id": "qzOw-KsNao9X",
        "colab_type": "text"
      },
      "source": [
        "# **STATE FARM DATASET**"
      ]
    },
    {
      "cell_type": "code",
      "metadata": {
        "id": "xKH1lpbBCKAA",
        "colab_type": "code",
        "colab": {}
      },
      "source": [
        "driver_list=pd.read_csv('driver_imgs_list.csv',na_values='na')\n",
        "driver_list['subject'].value_counts()\n"
      ],
      "execution_count": 0,
      "outputs": []
    },
    {
      "cell_type": "code",
      "metadata": {
        "id": "p1TIIZ6rDcCA",
        "colab_type": "code",
        "outputId": "2eff9d4e-dfff-476d-f193-ccdb571e4d18",
        "colab": {
          "base_uri": "https://localhost:8080/",
          "height": 34
        }
      },
      "source": [
        "no_of_class=10\n",
        "images=[]\n",
        "faces=[]\n",
        "\n",
        "for i in tqdm(range(no_of_class)):\n",
        "  \n",
        "  files=os.listdir(\"imgs/train/c\"+str(i))\n",
        "  for j in range(len(files)):\n",
        "    \n",
        "    img_name = \"imgs/train/c\"+str(i)+\"/\"+files[j]\n",
        "    \n",
        "    img=cv2.imread(img_name)\n",
        "    \n",
        "    img=cv2.cvtColor(img,cv2.COLOR_BGR2RGB)\n",
        "    \n",
        "    full_img = img[50:,70:-50]\n",
        "    full_img = cv2.resize(full_img,(224,224))\n",
        "    \n",
        "    driver = driver_list.loc[driver_list['img'] == files[j]]['subject']\n",
        "    images.append([full_img,i,driver])   "
      ],
      "execution_count": 0,
      "outputs": [
        {
          "output_type": "stream",
          "text": [
            "100%|██████████| 10/10 [2:40:28<00:00, 962.83s/it]\n"
          ],
          "name": "stderr"
        }
      ]
    },
    {
      "cell_type": "code",
      "metadata": {
        "id": "5vyrIa1atuGw",
        "colab_type": "code",
        "colab": {}
      },
      "source": [
        "import random\n",
        "random.shuffle(images)\n",
        "#random.shuffle(faces)\n",
        "driv_selected = ['p026', 'p024','p021','p022']"
      ],
      "execution_count": 0,
      "outputs": []
    },
    {
      "cell_type": "markdown",
      "metadata": {
        "id": "h4w-_5bQJa9B",
        "colab_type": "text"
      },
      "source": [
        "**PROPER IMAGE**"
      ]
    },
    {
      "cell_type": "code",
      "metadata": {
        "id": "OgjiR8TWGhQe",
        "colab_type": "code",
        "outputId": "8135235e-e94a-4c4e-e438-fa9b2acaee95",
        "colab": {
          "base_uri": "https://localhost:8080/",
          "height": 52
        }
      },
      "source": [
        "X_train= []\n",
        "y_train = []\n",
        "X_test = []\n",
        "y_test = []\n",
        "D_train = []\n",
        "D_test = []\n",
        "\n",
        "for features,labels,drivers in images:\n",
        "  #print(drivers)  \n",
        "  for d in drivers:\n",
        "    if d not in driv_selected:\n",
        "      X_train.append(features)\n",
        "      y_train.append(labels)\n",
        "    \n",
        "    else:\n",
        "       \n",
        "      X_test.append(features)\n",
        "      y_test.append(labels)\n"
      ],
      "execution_count": 0,
      "outputs": [
        {
          "output_type": "stream",
          "text": [
            "17532 4892\n",
            "17532 4892\n"
          ],
          "name": "stdout"
        }
      ]
    },
    {
      "cell_type": "code",
      "metadata": {
        "id": "IPkYRAMvP1Ye",
        "colab_type": "code",
        "colab": {}
      },
      "source": [
        "import tensorflow as tf\n",
        "#import tensorflow.compat.v1 as tf\n",
        "#tf.disable_v2_behavior()\n",
        "\n",
        "from tensorflow.keras.models import Sequential, Model, load_model\n",
        "from tensorflow.keras.layers import Conv2D, MaxPooling2D, Flatten, Dense, Dropout, BatchNormalization, GlobalAveragePooling2D\n",
        "from tensorflow.keras.preprocessing.image import ImageDataGenerator\n",
        "from tensorflow.keras.preprocessing import image\n",
        "from tensorflow.keras.callbacks import ModelCheckpoint, EarlyStopping\n",
        "from tensorflow.keras.applications.vgg16 import VGG16\n",
        "from sklearn.model_selection import train_test_split\n",
        "from tensorflow.keras.utils import to_categorical\n",
        "\n",
        "import matplotlib.pyplot as plt\n"
      ],
      "execution_count": 0,
      "outputs": []
    },
    {
      "cell_type": "code",
      "metadata": {
        "id": "n-df-fTlEgqD",
        "colab_type": "code",
        "outputId": "cce451b6-912a-480f-e21c-de7265d83b56",
        "colab": {
          "base_uri": "https://localhost:8080/",
          "height": 34
        }
      },
      "source": [
        "\n",
        "train_label=to_categorical(y_train,10)\n",
        "test_label=to_categorical(y_test,10)\n",
        "\n",
        "train_label.shape"
      ],
      "execution_count": 0,
      "outputs": [
        {
          "output_type": "execute_result",
          "data": {
            "text/plain": [
              "(17532, 10)"
            ]
          },
          "metadata": {
            "tags": []
          },
          "execution_count": 11
        }
      ]
    },
    {
      "cell_type": "code",
      "metadata": {
        "id": "HcQINd9AqPvu",
        "colab_type": "code",
        "outputId": "1e180731-fc42-4aa9-dbff-6a41de86982a",
        "colab": {
          "base_uri": "https://localhost:8080/",
          "height": 34
        }
      },
      "source": [
        "train_img = np.array(X_train).reshape(-1,224,224,3)\n",
        "test_img = np.array(X_test).reshape(-1,224,224,3)\n",
        "train_img.shape,test_img.shape"
      ],
      "execution_count": 0,
      "outputs": [
        {
          "output_type": "execute_result",
          "data": {
            "text/plain": [
              "((17532, 224, 224, 3), (4892, 224, 224, 3))"
            ]
          },
          "metadata": {
            "tags": []
          },
          "execution_count": 13
        }
      ]
    },
    {
      "cell_type": "code",
      "metadata": {
        "id": "rl-j6-59Yf0M",
        "colab_type": "code",
        "colab": {}
      },
      "source": [
        "del X_train,X_test"
      ],
      "execution_count": 0,
      "outputs": []
    },
    {
      "cell_type": "markdown",
      "metadata": {
        "id": "CCcfpHrTxSNh",
        "colab_type": "text"
      },
      "source": [
        "# **Image Data Generator**"
      ]
    },
    {
      "cell_type": "code",
      "metadata": {
        "id": "cMINfMGkrLXb",
        "colab_type": "code",
        "colab": {}
      },
      "source": [
        "\n",
        "datagen = ImageDataGenerator(\n",
        "            rotation_range=30,  \n",
        "            width_shift_range=0.5,\n",
        "            height_shift_range=0.5,\n",
        "            zoom_range=0.5,  \n",
        "            horizontal_flip=False,  \n",
        "            vertical_flip=False,  \n",
        "            rescale=None,\n",
        "            preprocessing_function=None,\n",
        "            data_format=None,\n",
        "            validation_split=0.0)\n",
        "\n",
        "full_generator=datagen.flow(train_img,train_label,batch_size=32)"
      ],
      "execution_count": 0,
      "outputs": []
    },
    {
      "cell_type": "markdown",
      "metadata": {
        "id": "72VNsy7gZW4K",
        "colab_type": "text"
      },
      "source": [
        "# **VGG19**\n",
        "\n",
        "---\n",
        "\n"
      ]
    },
    {
      "cell_type": "code",
      "metadata": {
        "id": "Y98XyikEpgx_",
        "colab_type": "code",
        "colab": {}
      },
      "source": [
        "#VGG16\n",
        "from tensorflow.keras.layers import Input\n",
        "vgg19_input = Input(shape = (224, 224, 3), name = 'Image_input')\n",
        "\n",
        "from tensorflow.keras.applications.vgg19 import VGG19, preprocess_input\n",
        "\n",
        "model_vgg19 = VGG19(weights='imagenet', include_top=False, input_tensor = vgg19_input)\n",
        "model_vgg19.summary()"
      ],
      "execution_count": 0,
      "outputs": []
    },
    {
      "cell_type": "code",
      "metadata": {
        "id": "088T76zKpx1P",
        "colab_type": "code",
        "colab": {}
      },
      "source": [
        "from tensorflow.keras.models import Model\n",
        "from tensorflow.keras.optimizers import SGD\n",
        "\n",
        "output_vgg19 = model_vgg19(vgg19_input)\n",
        "\n",
        "x = Flatten(name='flatten')(output_vgg19)\n",
        "x = Dense(4096, activation='relu', name='fc1')(x)\n",
        "x = Dense(1024, activation='relu', name='fc2')(x)\n",
        "x = Dense(10, activation='softmax', name='predictions')(x)\n",
        "\n",
        "vgg19_pretrained = Model(inputs = vgg19_input, outputs = x)\n",
        "vgg19_pretrained.summary()\n",
        "\n",
        "# Compile CNN model\n",
        "sgd = SGD(lr = 0.0005)\n",
        "vgg19_pretrained.compile(loss='categorical_crossentropy',optimizer = sgd,metrics=['accuracy'])\n"
      ],
      "execution_count": 0,
      "outputs": []
    },
    {
      "cell_type": "code",
      "metadata": {
        "id": "1OCQT5Ddqupq",
        "colab_type": "code",
        "colab": {}
      },
      "source": [
        "vgg19_history = vgg19_pretrained.fit_generator(full_generator,steps_per_epoch = len(train_img) / 32, \n",
        "                                                            epochs = 15, verbose = 1, validation_data = (test_img, test_label))"
      ],
      "execution_count": 0,
      "outputs": []
    },
    {
      "cell_type": "markdown",
      "metadata": {
        "id": "1t9kmk7oagwe",
        "colab_type": "text"
      },
      "source": [
        "# **RESNET50V2**"
      ]
    },
    {
      "cell_type": "code",
      "metadata": {
        "id": "P4ectfxXY-Yh",
        "colab_type": "code",
        "colab": {}
      },
      "source": [
        "#VGG16\n",
        "from tensorflow.keras.layers import Input\n",
        "resnet50_input = Input(shape = (224, 224, 3), name = 'Image_input')\n",
        "\n",
        "from tensorflow.keras.applications.resnet_v2 import ResNet50V2, preprocess_input, ResNet101V2\n",
        "\n",
        "model_resnet50 = ResNet50V2(weights='imagenet', include_top=False, input_tensor = resnet50_input)\n",
        "model_resnet50.summary()"
      ],
      "execution_count": 0,
      "outputs": []
    },
    {
      "cell_type": "code",
      "metadata": {
        "id": "hq80Og9cZt09",
        "colab_type": "code",
        "colab": {}
      },
      "source": [
        "from tensorflow.keras.models import Model\n",
        "from tensorflow.keras.optimizers import SGD\n",
        "\n",
        "output_resnet50 = model_resnet50(resnet50_input)\n",
        "\n",
        "x = Flatten(name='flatten')(output_resnet50)\n",
        "x = Dense(4096, activation='relu', name='fc1')(x)\n",
        "x = Dense(4096, activation='relu', name='fc2')(x)\n",
        "x = Dense(10, activation='softmax', name='predictions')(x)\n",
        "\n",
        "resnet50_pretrained1 = Model(inputs = resnet50_input, outputs = x)\n",
        "resnet50_pretrained.summary()\n",
        "resnet50_pretrained1.load_weights('resnet_weights_aug_alltrained_sgd2_setval.hdf5')\n",
        "# Compile CNN model\n",
        "sgd = SGD(lr = 0.0005)\n",
        "resnet50_pretrained1.compile(loss='categorical_crossentropy',optimizer = sgd,metrics=['accuracy'])\n"
      ],
      "execution_count": 0,
      "outputs": []
    },
    {
      "cell_type": "code",
      "metadata": {
        "id": "49jXyTgdaT4M",
        "colab_type": "code",
        "colab": {}
      },
      "source": [
        "from tensorflow.keras.callbacks import ModelCheckpoint, EarlyStopping\n",
        "checkpointer = ModelCheckpoint('resnet_weights_aug_alltrained_sgd2_setval.hdf5',monitor='val_accuracy', verbose=1, save_best_only=True, mode='max')\n",
        "#earlystopper = EarlyStopping(monitor='val_accuracy', patience=5, verbose=1)\n",
        "\n",
        "resnet50_model = resnet50_pretrained.fit_generator(full_generator,steps_per_epoch = len(train_img) / 32, \n",
        "                                                            epochs = 25, verbose = 1, callbacks= [checkpointer], validation_data = (test_img, test_label))"
      ],
      "execution_count": 0,
      "outputs": []
    },
    {
      "cell_type": "markdown",
      "metadata": {
        "id": "-kdkqhV-W_Nb",
        "colab_type": "text"
      },
      "source": [
        "# **INCEPTION**"
      ]
    },
    {
      "cell_type": "code",
      "metadata": {
        "id": "8UT5iC2sXCc8",
        "colab_type": "code",
        "colab": {}
      },
      "source": [
        "from tensorflow.keras.layers import Input\n",
        "inceptionv3_input = Input(shape = (299, 299, 3), name = 'Image_input')\n",
        "\n",
        "from tensorflow.keras.applications.inception_v3 import InceptionV3, preprocess_input\n",
        "\n",
        "model_inceptionv3 = InceptionV3(weights='imagenet', include_top=False, input_tensor = inceptionv3_input)\n",
        "model_inceptionv3.summary()"
      ],
      "execution_count": 0,
      "outputs": []
    },
    {
      "cell_type": "code",
      "metadata": {
        "id": "lqHM3qvqXbQM",
        "colab_type": "code",
        "colab": {}
      },
      "source": [
        "from tensorflow.keras.models import Model\n",
        "from tensorflow.keras.optimizers import SGD\n",
        "\n",
        "output_inceptionv3 = model_inceptionv3(inceptionv3_input)\n",
        "\n",
        "x = Flatten(name='flatten')(output_inceptionv3)\n",
        "x = Dense(4096, activation='relu', name='fc1')(x)\n",
        "x = Dense(4096, activation='relu', name='fc2')(x)\n",
        "x = Dense(10, activation='softmax', name='predictions')(x)\n",
        "\n",
        "inceptionv3_pretrained = Model(inputs = inceptionv3_input, outputs = x)\n",
        "inceptionv3_pretrained.summary()\n",
        "\n",
        "# Compile CNN model\n",
        "sgd = SGD(lr = 0.0005)\n",
        "inceptionv3_pretrained.compile(loss='categorical_crossentropy',optimizer = sgd,metrics=['accuracy'])\n"
      ],
      "execution_count": 0,
      "outputs": []
    },
    {
      "cell_type": "code",
      "metadata": {
        "id": "A9JRyt2WX5fs",
        "colab_type": "code",
        "colab": {}
      },
      "source": [
        "inceptionv3_history1 = inceptionv3_pretrained.fit_generator(full_generator,steps_per_epoch = len(train_img) / 32, \n",
        "                                                            epochs = 5, verbose = 1, validation_data = (test_img, test_label))"
      ],
      "execution_count": 0,
      "outputs": []
    },
    {
      "cell_type": "markdown",
      "metadata": {
        "id": "jzMr_o0gL0yM",
        "colab_type": "text"
      },
      "source": [
        "# **DenseNet**"
      ]
    },
    {
      "cell_type": "code",
      "metadata": {
        "id": "FWcQ3ZnpL4k5",
        "colab_type": "code",
        "colab": {}
      },
      "source": [
        "from tensorflow.keras.layers import Input\n",
        "DenseNet_input = Input(shape = (224, 224, 3), name = 'Image_input')\n",
        "\n",
        "from tensorflow.keras.applications import DenseNet201\n",
        "\n",
        "model_DenseNet = DenseNet201(weights='imagenet', include_top=False, input_tensor = DenseNet_input)\n",
        "model_DenseNet.summary()"
      ],
      "execution_count": 0,
      "outputs": []
    },
    {
      "cell_type": "code",
      "metadata": {
        "id": "cKahV1UXMWxX",
        "colab_type": "code",
        "colab": {}
      },
      "source": [
        "from tensorflow.keras.models import Model\n",
        "from tensorflow.keras.optimizers import SGD\n",
        "\n",
        "output_DenseNet = model_DenseNet(DenseNet_input)\n",
        "\n",
        "x = Flatten(name='flatten')(output_DenseNet)\n",
        "x = Dense(4096, activation='relu', name='fc1')(x)\n",
        "x = Dense(4096, activation='relu', name='fc2')(x)\n",
        "x = Dense(10, activation='softmax', name='predictions')(x)\n",
        "\n",
        "DenseNet_pretrained = Model(inputs =DenseNet_input, outputs = x)\n",
        "DenseNet_pretrained.summary()\n",
        "\n",
        "# Compile CNN model\n",
        "sgd = SGD(lr = 0.0005)\n",
        "DenseNet_pretrained.compile(loss='categorical_crossentropy',optimizer = sgd,metrics=['accuracy'])\n"
      ],
      "execution_count": 0,
      "outputs": []
    },
    {
      "cell_type": "code",
      "metadata": {
        "id": "vyJqxjubMqRG",
        "colab_type": "code",
        "colab": {}
      },
      "source": [
        "DenseNet_history = DenseNet_pretrained.fit_generator(full_generator,steps_per_epoch = len(train_img) / 32, \n",
        "                                                            epochs = 5, verbose = 1, validation_data = (test_img, test_label))"
      ],
      "execution_count": 0,
      "outputs": []
    },
    {
      "cell_type": "markdown",
      "metadata": {
        "id": "P7BrQzxYNvgl",
        "colab_type": "text"
      },
      "source": [
        "# **MobileNet**"
      ]
    },
    {
      "cell_type": "code",
      "metadata": {
        "id": "YKY7wMuuNzi5",
        "colab_type": "code",
        "colab": {}
      },
      "source": [
        "from tensorflow.keras.layers import Input\n",
        "mobileNet_input = Input(shape = (224, 224, 3), name = 'Image_input')\n",
        "\n",
        "from tensorflow.keras.applications import MobileNetV2\n",
        "\n",
        "model_mobileNet = MobileNetV2(weights='imagenet', include_top=False, input_tensor = mobileNet_input)\n",
        "model_mobileNet.summary()"
      ],
      "execution_count": 0,
      "outputs": []
    },
    {
      "cell_type": "code",
      "metadata": {
        "id": "Endo0VmvOIIb",
        "colab_type": "code",
        "colab": {}
      },
      "source": [
        "from tensorflow.keras.models import Model\n",
        "from tensorflow.keras.optimizers import SGD\n",
        "\n",
        "output_mobileNet = model_mobileNet(mobileNet_input)\n",
        "\n",
        "x = Flatten(name='flatten')(output_mobileNet)\n",
        "x = Dense(4096, activation='relu', name='fc1')(x)\n",
        "x = Dense(4096, activation='relu', name='fc2')(x)\n",
        "x = Dense(10, activation='softmax', name='predictions')(x)\n",
        "\n",
        "mobileNet_pretrained = Model(inputs =mobileNet_input, outputs = x)\n",
        "mobileNet_pretrained.summary()\n",
        "\n",
        "# Compile CNN model\n",
        "sgd = SGD(lr = 0.0005)\n",
        "mobileNet_pretrained.compile(loss='categorical_crossentropy',optimizer = sgd,metrics=['accuracy'])\n"
      ],
      "execution_count": 0,
      "outputs": []
    },
    {
      "cell_type": "code",
      "metadata": {
        "id": "OouK9Y0COZSb",
        "colab_type": "code",
        "colab": {}
      },
      "source": [
        "mobileNet_history = mobileNet_pretrained.fit_generator(full_generator,steps_per_epoch = len(train_img) / 32, \n",
        "                                                            epochs = 15, verbose = 1, validation_data = (test_img, test_label))"
      ],
      "execution_count": 0,
      "outputs": []
    },
    {
      "cell_type": "markdown",
      "metadata": {
        "id": "5efUkUiorq8K",
        "colab_type": "text"
      },
      "source": [
        "# **Xception**"
      ]
    },
    {
      "cell_type": "code",
      "metadata": {
        "id": "Ce_HFB-2rtqS",
        "colab_type": "code",
        "colab": {}
      },
      "source": [
        "from tensorflow.keras.layers import Input\n",
        "xception_input = Input(shape = (299, 299, 3), name = 'Image_input')\n",
        "\n",
        "from tensorflow.keras.applications import Xception\n",
        "\n",
        "model_xception = Xception(weights='imagenet', include_top=False, input_tensor = xception_input)\n",
        "model_xception.summary()"
      ],
      "execution_count": 0,
      "outputs": []
    },
    {
      "cell_type": "code",
      "metadata": {
        "id": "xUHJcc6CsVul",
        "colab_type": "code",
        "colab": {}
      },
      "source": [
        "from tensorflow.keras.models import Model\n",
        "from tensorflow.keras.optimizers import SGD\n",
        "\n",
        "output_xception = model_xception(xception_input)\n",
        "\n",
        "x = Flatten(name='flatten')(output_xception)\n",
        "x = Dense(4096, activation='relu', name='fc1')(x)\n",
        "x = Dense(4096, activation='relu', name='fc2')(x)\n",
        "x = Dense(10, activation='softmax', name='predictions')(x)\n",
        "\n",
        "xception_pretrained = Model(inputs = xception_input, outputs = x)\n",
        "xception_pretrained.summary()\n",
        "\n",
        "# Compile CNN model\n",
        "sgd = SGD(lr = 0.0005)\n",
        "xception_pretrained.compile(loss='categorical_crossentropy',optimizer = sgd,metrics=['accuracy'])"
      ],
      "execution_count": 0,
      "outputs": []
    },
    {
      "cell_type": "code",
      "metadata": {
        "id": "IYZ7aIgfsp-f",
        "colab_type": "code",
        "colab": {}
      },
      "source": [
        "xception_history = xception_pretrained.fit_generator(full_generator,steps_per_epoch = len(train_img) / 32, \n",
        "                                                            epochs = 15, verbose = 1, validation_data = (test_img, test_label))"
      ],
      "execution_count": 0,
      "outputs": []
    },
    {
      "cell_type": "markdown",
      "metadata": {
        "id": "oyT4PbbwvjuU",
        "colab_type": "text"
      },
      "source": [
        "# **Inception ResNet**"
      ]
    },
    {
      "cell_type": "code",
      "metadata": {
        "id": "R4k3BwQlvqyJ",
        "colab_type": "code",
        "colab": {}
      },
      "source": [
        "from tensorflow.keras.layers import Input\n",
        "inceptionresnetv2_input = Input(shape = (299, 299, 3), name = 'Image_input')\n",
        "\n",
        "from tensorflow.keras.applications.inception_resnet_v2 import InceptionResNetV2, preprocess_input\n",
        "\n",
        "model_inceptionresnetv2 = InceptionResNetV2(weights='imagenet', include_top=False, input_tensor = inceptionresnetv2_input)\n",
        "model_inceptionresnetv2.summary()"
      ],
      "execution_count": 0,
      "outputs": []
    },
    {
      "cell_type": "code",
      "metadata": {
        "id": "QecPGI7FwRVK",
        "colab_type": "code",
        "colab": {}
      },
      "source": [
        "from tensorflow.keras.models import Model\n",
        "from tensorflow.keras.optimizers import SGD\n",
        "\n",
        "output_inceptionresnetv2 = model_inceptionresnetv2(inceptionresnetv2_input)\n",
        "\n",
        "x = Flatten(name='flatten')(output_inceptionresnetv2)\n",
        "x = Dense(4096, activation='relu', name='fc1')(x)\n",
        "x = Dense(4096, activation='relu', name='fc2')(x)\n",
        "x = Dense(10, activation='softmax', name='predictions')(x)\n",
        "\n",
        "inceptionresnetv2_pretrained = Model(inputs = inceptionresnetv2_input, outputs = x)\n",
        "inceptionresnetv2_pretrained.summary()\n",
        "\n",
        "# Compile CNN model\n",
        "sgd = SGD(lr = 0.0009)\n",
        "inceptionresnetv2_pretrained.compile(loss='categorical_crossentropy',optimizer = sgd,metrics=['accuracy'])"
      ],
      "execution_count": 0,
      "outputs": []
    },
    {
      "cell_type": "code",
      "metadata": {
        "id": "_2pQAr6Awx3Y",
        "colab_type": "code",
        "colab": {}
      },
      "source": [
        "inceptionresnet2_history = inceptionresnetv2_pretrained.fit_generator(full_generator,steps_per_epoch = len(train_img) / 32, \n",
        "                                                            epochs = 20, verbose = 1, validation_data = (test_img, test_label))"
      ],
      "execution_count": 0,
      "outputs": []
    },
    {
      "cell_type": "markdown",
      "metadata": {
        "id": "KXDKZodbsnC-",
        "colab_type": "text"
      },
      "source": [
        "**Accuracy Plot**"
      ]
    },
    {
      "cell_type": "code",
      "metadata": {
        "id": "_hPgMDzSEkAF",
        "colab_type": "code",
        "outputId": "b9d3872c-4cfd-45e1-abcb-41eb08eda11c",
        "colab": {
          "base_uri": "https://localhost:8080/",
          "height": 332
        }
      },
      "source": [
        "import matplotlib.pyplot as plt\n",
        "\n",
        "# Plot training & validation accuracy values\n",
        "plt.plot(mobileNet_history.history['accuracy'])\n",
        "plt.plot(mobileNet_history.history['val_accuracy'])\n",
        "plt.title('Model accuracy')\n",
        "plt.ylabel('Accuracy')\n",
        "plt.xlabel('Epoch')\n",
        "plt.legend(['Train', 'Test'], loc='upper left')\n",
        "plt.savefig('accuracy_mobilenet')\n"
      ],
      "execution_count": 0,
      "outputs": [
        {
          "output_type": "stream",
          "text": [
            "[0.3289051532745361, 0.5340333461761475, 0.6715195655822754, 0.742307710647583, 0.8115227103233338, 0.8362198948860169, 0.8491190552711487, 0.8517932772636414, 0.8434560179710389, 0.8635913014411927, 0.8731870532035828, 0.8736589431762696, 0.8775916576385498, 0.850062894821167]\n"
          ],
          "name": "stdout"
        },
        {
          "output_type": "display_data",
          "data": {
            "image/png": "[encoded data removed]",
            "text/plain": [
              "<Figure size 432x288 with 1 Axes>"
            ]
          },
          "metadata": {
            "tags": [],
            "needs_background": "light"
          }
        }
      ]
    },
    {
      "cell_type": "markdown",
      "metadata": {
        "id": "gvBHlu7hstXH",
        "colab_type": "text"
      },
      "source": [
        "**Confusion Matrix Generation**"
      ]
    },
    {
      "cell_type": "code",
      "metadata": {
        "id": "wpYkdG8dlGTT",
        "colab_type": "code",
        "colab": {}
      },
      "source": [
        "y_pred=mobileNet_pretrained.predict(test_img)\n",
        "\n",
        "y_true=np.argmax(test_label,axis=1)\n",
        "prediction=np.argmax(y_pred,axis=1)\n",
        "\n",
        "con_mat = tf.math.confusion_matrix(y_true, prediction, num_classes=10)\n",
        "summ=np.sum(con_mat,axis=1)\n",
        "con_mat_norm = np.around(con_mat / summ[:, np.newaxis], decimals=2)\n",
        "\n",
        "con_mat_df = pd.DataFrame(con_mat_norm,\n",
        "                     index = [0,1,2,3,4,5,6,7,8,9], \n",
        "                     columns = [0,1,2,3,4,5,6,7,8,9])\n",
        "\n",
        "print(con_mat_df)"
      ],
      "execution_count": 0,
      "outputs": []
    },
    {
      "cell_type": "code",
      "metadata": {
        "id": "wQ4qA-jzB6n7",
        "colab_type": "code",
        "outputId": "c1813a0a-4e93-4338-e281-736408983116",
        "colab": {
          "base_uri": "https://localhost:8080/",
          "height": 599
        }
      },
      "source": [
        "import seaborn as sns\n",
        "figure = plt.figure(figsize=(8, 8))\n",
        "sns.heatmap(con_mat_df, annot=True,cmap=plt.cm.Blues)\n",
        "plt.tight_layout()\n",
        "plt.ylabel('True label')\n",
        "plt.xlabel('Predicted label')\n",
        "plt.savefig(\"mobilenet_Cmatrix\")"
      ],
      "execution_count": 0,
      "outputs": [
        {
          "output_type": "display_data",
          "data": {
            "image/png": "[encoded data removed]",
            "text/plain": [
              "<Figure size 576x576 with 2 Axes>"
            ]
          },
          "metadata": {
            "tags": [],
            "needs_background": "light"
          }
        }
      ]
    },
    {
      "cell_type": "markdown",
      "metadata": {
        "id": "M2KlIlNNs0Jg",
        "colab_type": "text"
      },
      "source": [
        "**Prediction on Test Images**"
      ]
    },
    {
      "cell_type": "code",
      "metadata": {
        "id": "6ArthoQYHpeC",
        "colab_type": "code",
        "colab": {}
      },
      "source": [
        "classtype={0:\"safe driving\",1:\"texting-right\",2:\"talking phone right\",3:\"texting left\",4:\"talking phone left\",\n",
        "           5:\"operating radio\",6:\"drinking\",7:\"reaching behind\",8:\"hair and makeup\",9:\"talking to passenger\"}"
      ],
      "execution_count": 0,
      "outputs": []
    },
    {
      "cell_type": "code",
      "metadata": {
        "id": "m1j4gMoL_xmN",
        "colab_type": "code",
        "colab": {}
      },
      "source": [
        "count=0\n",
        "for label,img in zip(y_true, test_img):\n",
        "  img=cv2.resize(img,(480,480))\n",
        "  if label!=0:\n",
        "    text=\"stop \"+classtype[label]+\" Please!\"\n",
        "    text2=\"Alert System: ON\"\n",
        "    \n",
        "  else:\n",
        "    text=\"Cool! You are paying attention.\"\n",
        "    text2=\"Alert System: OFF\"\n",
        "  font                   = cv2.FONT_HERSHEY_SIMPLEX\n",
        "  bottomLeftCornerOfText = (10,50)\n",
        "  fontScale              = 0.5\n",
        "  fontColor              = (0,0,255)\n",
        "  lineType               = 2\n",
        "  cv2.putText(img,str(text), \n",
        "    bottomLeftCornerOfText, \n",
        "    font, \n",
        "    fontScale,\n",
        "    fontColor,\n",
        "    lineType)\n",
        "  \n",
        "  font                   = cv2.FONT_ITALIC\n",
        "  bottomLeftCornerOfText = (10,400)\n",
        "  fontScale              = 0.5\n",
        "  fontColor              = (0,0,255)\n",
        "  lineType               = 2\n",
        "  cv2.putText(img,str(text2), \n",
        "    bottomLeftCornerOfText, \n",
        "    font, \n",
        "    fontScale,\n",
        "    fontColor,\n",
        "    lineType)\n",
        "  \n",
        "  cv2_imshow(img)\n",
        "  \n",
        "  count=count+1"
      ],
      "execution_count": 0,
      "outputs": []
    },
    {
      "cell_type": "markdown",
      "metadata": {
        "id": "FPq3ud8bs-uq",
        "colab_type": "text"
      },
      "source": [
        "**Generating Videos of the predicted Images**"
      ]
    },
    {
      "cell_type": "code",
      "metadata": {
        "id": "Z0LhJ5ZNIUkt",
        "colab_type": "code",
        "colab": {}
      },
      "source": [
        "images=glob.glob('*.jpg')"
      ],
      "execution_count": 0,
      "outputs": []
    },
    {
      "cell_type": "code",
      "metadata": {
        "id": "x5JhmhZ1Giji",
        "colab_type": "code",
        "colab": {}
      },
      "source": [
        "out = cv2.VideoWriter('prediction3.mp4',cv2.VideoWriter_fourcc(*'DIVX'), 0.5, (480,480))\n",
        " \n",
        "for f in images:\n",
        "  i=cv2.imread(str(f))\n",
        "  out.write(i)\n",
        "out.release()"
      ],
      "execution_count": 0,
      "outputs": []
    }
  ]
}